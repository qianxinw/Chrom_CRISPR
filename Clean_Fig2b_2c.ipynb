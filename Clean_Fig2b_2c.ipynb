{
 "cells": [
  {
   "cell_type": "code",
   "execution_count": 1,
   "metadata": {},
   "outputs": [],
   "source": [
    "#  Generate the barcode distribution plot\n",
    "import pandas as pd\n",
    "import numpy as np\n",
    "\n",
    "GL_gDNA_cDNA_input = pd.read_csv('R_metadata_input_name.csv', sep=',')\n",
    "\n",
    "# Create a heatmap for D0 - D5 differntiation data\n",
    "D0_D5_diff_heatmap = GL_gDNA_cDNA_input[['cDNA/gDNA ratio_D0_1_diff', 'cDNA/gDNA ratio.1_D0_2_diff', 'cDNA/gDNA ratio.2_D0_3_diff', \n",
    "'cDNA/gDNA ratio.3_D0_4_diff', 'cDNA/gDNA ratio.4_D2_1_diff', 'cDNA/gDNA ratio.5_D2_2_diff', \n",
    "'cDNA/gDNA ratio.6_D2_3_diff', 'cDNA/gDNA ratio.7_D2_4_diff', 'cDNA/gDNA ratio.8_D5_1_diff', \n",
    "'cDNA/gDNA ratio.9_D5_2_diff', 'cDNA/gDNA ratio.10_D5_3_diff', 'cDNA/gDNA ratio.11_D5_4_diff',\n",
    "'_Segment number']].copy()\n",
    "\n",
    "# Rearrange the replicates by giving a group label\n",
    "merged_D0_D5 = D0_D5_diff_heatmap.melt(id_vars = ['_Segment number'])\n",
    "merged_D0_D5['group'] = \"NA\"\n",
    "merged_D0_D5['group'] = np.where((merged_D0_D5['variable'] == 'cDNA/gDNA ratio_D0_1_diff') | \n",
    "                                 (merged_D0_D5['variable'] =='cDNA/gDNA ratio.1_D0_2_diff') | \n",
    "                                 (merged_D0_D5['variable'] =='cDNA/gDNA ratio.2_D0_3_diff') |\n",
    "                                 (merged_D0_D5['variable'] =='cDNA/gDNA ratio.3_D0_4_diff'),\n",
    "                                 'D0', merged_D0_D5['group'])\n",
    "merged_D0_D5['group'] = np.where((merged_D0_D5['variable'] == 'cDNA/gDNA ratio.4_D2_1_diff') | \n",
    "                                 (merged_D0_D5['variable'] =='cDNA/gDNA ratio.5_D2_2_diff') | \n",
    "                                 (merged_D0_D5['variable'] =='cDNA/gDNA ratio.6_D2_3_diff') |\n",
    "                                 (merged_D0_D5['variable'] =='cDNA/gDNA ratio.7_D2_4_diff'),\n",
    "                                 'D2', merged_D0_D5['group'])\n",
    "merged_D0_D5['group'] = np.where((merged_D0_D5['variable'] == 'cDNA/gDNA ratio.8_D5_1_diff') | \n",
    "                                 (merged_D0_D5['variable'] =='cDNA/gDNA ratio.9_D5_2_diff') | \n",
    "                                 (merged_D0_D5['variable'] =='cDNA/gDNA ratio.10_D5_3_diff') |\n",
    "                                 (merged_D0_D5['variable'] =='cDNA/gDNA ratio.11_D5_4_diff'),\n",
    "                                 'D5', merged_D0_D5['group'])"
   ]
  },
  {
   "cell_type": "code",
   "execution_count": 2,
   "metadata": {},
   "outputs": [
    {
     "name": "stdout",
     "output_type": "stream",
     "text": [
      "0.002192934\n"
     ]
    }
   ],
   "source": [
    "# find the smallest non-zero value\n",
    "m = min(i for i in merged_D0_D5['value'] if i > 0)\n",
    "print(m)\n",
    "\n",
    "#add 1/100 of the smallest value to all the values (<1% of the minimal expressed BC)\n",
    "merged_D0_D5['value'] = merged_D0_D5['value'] + 0.00001"
   ]
  },
  {
   "cell_type": "code",
   "execution_count": 3,
   "metadata": {},
   "outputs": [
    {
     "name": "stdout",
     "output_type": "stream",
     "text": [
      "636.9421557687813\n",
      "573.0530448221489\n",
      "530.7373007668574\n"
     ]
    }
   ],
   "source": [
    "D0_data = merged_D0_D5.loc[merged_D0_D5['group'] == 'D0']\n",
    "D2_data = merged_D0_D5.loc[merged_D0_D5['group'] == 'D2']\n",
    "D5_data = merged_D0_D5.loc[merged_D0_D5['group'] == 'D5']\n",
    "\n",
    "# Calculate the interquantile range for D0, D2 and D5 data\n",
    "D0_filter = D0_data.loc[(D0_data['value'] > 1e-05)]\n",
    "D2_filter = D2_data.loc[(D2_data['value'] > 1e-05)]\n",
    "D5_filter = D5_data.loc[(D5_data['value'] > 1e-05)]\n",
    "                        \n",
    "def iqr(data):\n",
    "    q10, q90 = np.percentile(data, [10,90])\n",
    "    return q90/q10\n",
    "\n",
    "print(iqr(D0_filter['value']))\n",
    "print(iqr(D2_filter['value']))\n",
    "print(iqr(D5_filter['value']))"
   ]
  },
  {
   "cell_type": "code",
   "execution_count": 4,
   "metadata": {},
   "outputs": [
    {
     "name": "stdout",
     "output_type": "stream",
     "text": [
      "(11692, 4)\n",
      "(11692, 4)\n",
      "(11692, 4)\n",
      "(6138, 4)\n",
      "(6001, 4)\n",
      "(5853, 4)\n"
     ]
    }
   ],
   "source": [
    "# calculat how many barcode expression is zero\n",
    "print(D0_data.shape)\n",
    "print(D2_data.shape)\n",
    "print(D5_data.shape)\n",
    "print(D0_filter.shape)\n",
    "print(D2_filter.shape)\n",
    "print(D5_filter.shape)\n"
   ]
  },
  {
   "cell_type": "code",
   "execution_count": 6,
   "metadata": {},
   "outputs": [
    {
     "data": {
      "text/plain": [
       "(0.0, 12500.0)"
      ]
     },
     "execution_count": 6,
     "metadata": {},
     "output_type": "execute_result"
    },
    {
     "data": {
      "image/png": "[encoded data removed]",
      "text/plain": [
       "<Figure size 338.125x144 with 1 Axes>"
      ]
     },
     "metadata": {
      "needs_background": "light"
     },
     "output_type": "display_data"
    }
   ],
   "source": [
    "import seaborn as sns\n",
    "import matplotlib.pyplot as plt\n",
    "\n",
    "D0_sorted = D0_data.sort_values('value')\n",
    "D0_sorted_reset = D0_sorted.reset_index().reset_index()\n",
    "\n",
    "D2_sorted = D2_data.sort_values('value')\n",
    "D2_sorted_reset = D2_sorted.reset_index().reset_index()\n",
    "\n",
    "D5_sorted = D5_data.sort_values('value')\n",
    "D5_sorted_reset = D5_sorted.reset_index().reset_index()\n",
    "\n",
    "plot = sns.lmplot(x='level_0', y='value',data=D0_sorted_reset, hue='group',fit_reg=False,height=2, aspect=2,scatter_kws={\"s\": 0.1})\n",
    "axes = plot.axes\n",
    "plot.set(yscale=\"log\")\n",
    "plt.axvline(5555,color='grey')\n",
    "plt.axvline(6168,color='grey')\n",
    "plt.axvline(11078,color='grey')\n",
    "plt.axvline(11692,color='grey')\n",
    "axes[0,0].set_ylim(0.0000001,10000000)\n",
    "axes[0,0].set_xlim(0,12500)\n"
   ]
  },
  {
   "cell_type": "code",
   "execution_count": 7,
   "metadata": {},
   "outputs": [
    {
     "data": {
      "text/plain": [
       "(0.0, 12500.0)"
      ]
     },
     "execution_count": 7,
     "metadata": {},
     "output_type": "execute_result"
    },
    {
     "data": {
      "image/png": "[encoded data removed]",
      "text/plain": [
       "<Figure size 338.125x144 with 1 Axes>"
      ]
     },
     "metadata": {
      "needs_background": "light"
     },
     "output_type": "display_data"
    }
   ],
   "source": [
    "plot = sns.lmplot(x='level_0', y='value',data=D2_sorted_reset, hue='group',fit_reg=False,height=2, aspect=2,scatter_kws={\"s\": 0.1})\n",
    "axes = plot.axes\n",
    "plot.set(yscale=\"log\")\n",
    "plt.axvline(5692,color='grey')\n",
    "plt.axvline(6292,color='grey')\n",
    "plt.axvline(11092,color='grey')\n",
    "plt.axvline(11692,color='grey')\n",
    "axes[0,0].set_ylim(0.0000001,10000000)\n",
    "axes[0,0].set_xlim(0,12500)"
   ]
  },
  {
   "cell_type": "code",
   "execution_count": 8,
   "metadata": {},
   "outputs": [
    {
     "data": {
      "text/plain": [
       "(0.0, 12500.0)"
      ]
     },
     "execution_count": 8,
     "metadata": {},
     "output_type": "execute_result"
    },
    {
     "data": {
      "image/png": "[encoded data removed]",
      "text/plain": [
       "<Figure size 338.125x144 with 1 Axes>"
      ]
     },
     "metadata": {
      "needs_background": "light"
     },
     "output_type": "display_data"
    }
   ],
   "source": [
    "plot = sns.lmplot(x='level_0', y='value',data=D5_sorted_reset, hue='group',fit_reg=False,height=2, aspect=2,scatter_kws={\"s\": 0.1})\n",
    "axes = plot.axes\n",
    "plot.set(yscale=\"log\")\n",
    "plt.axvline(5840,color='grey')\n",
    "plt.axvline(6425,color='grey')\n",
    "plt.axvline(11107,color='grey')\n",
    "plt.axvline(11692,color='grey')\n",
    "axes[0,0].set_ylim(0.0000001,10000000)\n",
    "axes[0,0].set_xlim(0,12500)"
   ]
  },
  {
   "cell_type": "code",
   "execution_count": 9,
   "metadata": {},
   "outputs": [
    {
     "data": {
      "text/plain": [
       "[(1e-07, 100000000)]"
      ]
     },
     "execution_count": 9,
     "metadata": {},
     "output_type": "execute_result"
    },
    {
     "data": {
      "image/png": "[encoded data removed]",
      "text/plain": [
       "<Figure size 432x288 with 1 Axes>"
      ]
     },
     "metadata": {
      "needs_background": "light"
     },
     "output_type": "display_data"
    }
   ],
   "source": [
    "ax_violin = sns.boxplot(x=\"_Segment number\", y=\"value\", hue=\"group\",\n",
    "               data=merged_D0_D5)\n",
    "ax_violin.set_yscale('log')\n",
    "ax_violin.set(ylim=(0.0000001, 100000000))"
   ]
  }
 ],
 "metadata": {
  "kernelspec": {
   "display_name": "mosaic",
   "language": "python",
   "name": "mosaic"
  },
  "language_info": {
   "codemirror_mode": {
    "name": "ipython",
    "version": 3
   },
   "file_extension": ".py",
   "mimetype": "text/x-python",
   "name": "python",
   "nbconvert_exporter": "python",
   "pygments_lexer": "ipython3",
   "version": "3.7.12"
  }
 },
 "nbformat": 4,
 "nbformat_minor": 4
}
