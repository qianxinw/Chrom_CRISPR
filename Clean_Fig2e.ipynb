{
 "cells": [
  {
   "cell_type": "code",
   "execution_count": 1,
   "metadata": {},
   "outputs": [
    {
     "data": {
      "text/plain": [
       "<matplotlib.legend.Legend at 0x7fdd7858ef10>"
      ]
     },
     "execution_count": 1,
     "metadata": {},
     "output_type": "execute_result"
    },
    {
     "data": {
      "image/png": "[encoded data removed]",
      "text/plain": [
       "<Figure size 432x216 with 1 Axes>"
      ]
     },
     "metadata": {
      "needs_background": "light"
     },
     "output_type": "display_data"
    }
   ],
   "source": [
    "# create the endogenous gene expression plot for the differntiation data\n",
    "import numpy as np\n",
    "import pandas as pd\n",
    "import matplotlib.pyplot as plt\n",
    "import seaborn as sns\n",
    "\n",
    "diff_endo = pd.read_csv(\"diff_endo_expression.csv\",sep = \",\")\n",
    "diff_endo = diff_endo.drop(columns=[\"Unnamed: 0\",\"Barcode\",\"ID\"])\n",
    "diff_endo_melt = pd.melt(diff_endo,\"BC_group\",var_name=\"endo_value\")\n",
    "diff_endo_melt['group'] = \"NA\"\n",
    "diff_endo_melt['group'] = np.where((diff_endo_melt['endo_value'] == 'D00H00_A') | \n",
    "                                 (diff_endo_melt['endo_value'] =='D00H00_B') | \n",
    "                                 (diff_endo_melt['endo_value'] =='D00H00_C'),\n",
    "                                 'D00H00', diff_endo_melt['group'])\n",
    "\n",
    "diff_endo_melt['group'] = np.where((diff_endo_melt['endo_value'] == 'D00H06_A') | \n",
    "                                 (diff_endo_melt['endo_value'] =='D00H06_B') | \n",
    "                                 (diff_endo_melt['endo_value'] =='D00H06_C'),\n",
    "                                 'D00H06', diff_endo_melt['group'])\n",
    "\n",
    "diff_endo_melt['group'] = np.where((diff_endo_melt['endo_value'] == 'D00H12_A') | \n",
    "                                 (diff_endo_melt['endo_value'] =='D00H12_B') | \n",
    "                                 (diff_endo_melt['endo_value'] =='D00H12_C'),\n",
    "                                 'D00H12', diff_endo_melt['group'])\n",
    "\n",
    "diff_endo_melt['group'] = np.where((diff_endo_melt['endo_value'] == 'D01H00_A') | \n",
    "                                 (diff_endo_melt['endo_value'] =='D01H00_B') | \n",
    "                                 (diff_endo_melt['endo_value'] =='D01H00_C'),\n",
    "                                 'D01H00', diff_endo_melt['group'])\n",
    "\n",
    "diff_endo_melt['group'] = np.where((diff_endo_melt['endo_value'] == 'D01H12_A') | \n",
    "                                 (diff_endo_melt['endo_value'] =='D01H12_B') | \n",
    "                                 (diff_endo_melt['endo_value'] =='D01H12_C'),\n",
    "                                 'D01H12', diff_endo_melt['group'])\n",
    "\n",
    "diff_endo_melt['group'] = np.where((diff_endo_melt['endo_value'] == 'D02H00_A') | \n",
    "                                 (diff_endo_melt['endo_value'] =='D02H00_B') | \n",
    "                                 (diff_endo_melt['endo_value'] =='D02H00_C'),\n",
    "                                 'D02H00', diff_endo_melt['group'])\n",
    "\n",
    "diff_endo_melt['group'] = np.where((diff_endo_melt['endo_value'] == 'D03H00_A') | \n",
    "                                 (diff_endo_melt['endo_value'] =='D03H00_B') | \n",
    "                                 (diff_endo_melt['endo_value'] =='D03H00_C'),\n",
    "                                 'D03H00', diff_endo_melt['group'])\n",
    "\n",
    "diff_endo_melt['group'] = np.where((diff_endo_melt['endo_value'] == 'D04H00_A') | \n",
    "                                 (diff_endo_melt['endo_value'] =='D04H00_B') | \n",
    "                                 (diff_endo_melt['endo_value'] =='D04H00_C'),\n",
    "                                 'D04H00', diff_endo_melt['group'])\n",
    "\n",
    "\n",
    "f, ax = plt.subplots(figsize=(6, 3))\n",
    "sns.despine(bottom=True, left=True)\n",
    "pal = sns.cubehelix_palette(10, rot=-.25, light=1)\n",
    "sns.boxplot(x=\"BC_group\", y=\"value\", hue=\"group\",data=diff_endo_melt,palette=pal)\n",
    "plt.legend(bbox_to_anchor=(1.05, 1), loc=2, borderaxespad=0.)\n"
   ]
  },
  {
   "cell_type": "code",
   "execution_count": 2,
   "metadata": {},
   "outputs": [
    {
     "data": {
      "text/plain": [
       "<matplotlib.legend.Legend at 0x7fdd788480d0>"
      ]
     },
     "execution_count": 2,
     "metadata": {},
     "output_type": "execute_result"
    },
    {
     "data": {
      "image/png": "[encoded data removed]",
      "text/plain": [
       "<Figure size 360x216 with 1 Axes>"
      ]
     },
     "metadata": {
      "needs_background": "light"
     },
     "output_type": "display_data"
    }
   ],
   "source": [
    "# create the endogenous gene expression plot for the differntiation data\n",
    "import numpy as np\n",
    "import pandas as pd\n",
    "import matplotlib.pyplot as plt\n",
    "import seaborn as sns\n",
    "\n",
    "diff_endo = pd.read_csv(\"diff_endo_expression.csv\",sep = \",\")\n",
    "diff_endo = diff_endo.drop(columns=[\"Unnamed: 0\",\"Barcode\",\"ID\"])\n",
    "diff_endo_melt = pd.melt(diff_endo,\"BC_group\",var_name=\"endo_value\")\n",
    "\n",
    "diff_endo_melt['group'] = \"A\"\n",
    "\n",
    "diff_endo_melt['group'] = np.where((diff_endo_melt['endo_value'] == 'D00H00_A') | \n",
    "                                 (diff_endo_melt['endo_value'] =='D00H00_B') | \n",
    "                                 (diff_endo_melt['endo_value'] =='D00H00_C'),\n",
    "                                 'D00H00', diff_endo_melt['group'])\n",
    "\n",
    "diff_endo_melt['group'] = np.where((diff_endo_melt['endo_value'] == 'D01H00_A') | \n",
    "                                 (diff_endo_melt['endo_value'] =='D01H00_B') | \n",
    "                                 (diff_endo_melt['endo_value'] =='D01H00_C'),\n",
    "                                 'D01H00', diff_endo_melt['group'])\n",
    "\n",
    "diff_endo_melt['group'] = np.where((diff_endo_melt['endo_value'] == 'D02H00_A') | \n",
    "                                 (diff_endo_melt['endo_value'] =='D02H00_B') | \n",
    "                                 (diff_endo_melt['endo_value'] =='D02H00_C'),\n",
    "                                 'D02H00', diff_endo_melt['group'])\n",
    "\n",
    "diff_endo_melt['group'] = np.where((diff_endo_melt['endo_value'] == 'D04H00_A') | \n",
    "                                 (diff_endo_melt['endo_value'] =='D04H00_B') | \n",
    "                                 (diff_endo_melt['endo_value'] =='D04H00_C'),\n",
    "                                 'D04H00', diff_endo_melt['group'])\n",
    "\n",
    "diff_endo_melt = diff_endo_melt[~diff_endo_melt.group.str.contains(\"A\")]\n",
    "\n",
    "f, ax = plt.subplots(figsize=(5, 3))\n",
    "sns.despine(bottom=True, left=True)\n",
    "pal = sns.cubehelix_palette(6, rot=-.25, light=1)\n",
    "sns.boxplot(x=\"BC_group\", y=\"value\", hue=\"group\",data=diff_endo_melt,palette=pal)\n",
    "plt.legend(bbox_to_anchor=(1.05, 1), loc=2, borderaxespad=0.)\n"
   ]
  }
 ],
 "metadata": {
  "kernelspec": {
   "display_name": "mosaic",
   "language": "python",
   "name": "mosaic"
  },
  "language_info": {
   "codemirror_mode": {
    "name": "ipython",
    "version": 3
   },
   "file_extension": ".py",
   "mimetype": "text/x-python",
   "name": "python",
   "nbconvert_exporter": "python",
   "pygments_lexer": "ipython3",
   "version": "3.7.12"
  }
 },
 "nbformat": 4,
 "nbformat_minor": 4
}
