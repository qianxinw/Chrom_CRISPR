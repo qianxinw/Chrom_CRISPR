{
 "cells": [
  {
   "cell_type": "code",
   "execution_count": 1,
   "metadata": {},
   "outputs": [
    {
     "data": {
      "text/plain": [
       "bins  In_or_out\n",
       "1     in           4172\n",
       "      out           213\n",
       "2     in           4174\n",
       "      out           210\n",
       "3     in           4177\n",
       "      out           208\n",
       "4     in           4141\n",
       "      out           243\n",
       "5     in           4139\n",
       "      out           245\n",
       "6     in           4051\n",
       "      out           334\n",
       "7     in           4049\n",
       "      out           335\n",
       "8     in           3881\n",
       "      out           504\n",
       "dtype: int64"
      ]
     },
     "execution_count": 1,
     "metadata": {},
     "output_type": "execute_result"
    }
   ],
   "source": [
    "# HiC TAD data analysis\n",
    "import pandas as pd\n",
    "in_TAD = pd.read_csv(\"/Users/qw2/Documents/Sanger/GL_analysis/32_TAD_highC_analysis/04_expression_intersect_TAD/final_in_out_bed/test_in_TAD_with_name.txt\",sep=\"\\t\")\n",
    "out_TAD = pd.read_csv(\"/Users/qw2/Documents/Sanger/GL_analysis/32_TAD_highC_analysis/04_expression_intersect_TAD/final_in_out_bed/test_out_TAD_with_name.txt\",sep=\"\\t\")\n",
    "TAD_merged = pd.concat([in_TAD,out_TAD])\n",
    "\n",
    "#change the order of the column \n",
    "cols = TAD_merged.columns.tolist()\n",
    "cols.insert(0, cols.pop(cols.index('LAD_end')))\n",
    "cols.insert(0, cols.pop(cols.index('LAD_start')))\n",
    "cols.insert(0, cols.pop(cols.index('LAD_chr')))\n",
    "TAD_merged = TAD_merged.reindex(columns= cols)\n",
    "TAD_merged = pd.concat([in_TAD,out_TAD])\n",
    "\n",
    "TAD_diff_plot = TAD_merged[['_barcode','cDNA/gDNA ratio_D0_1_diff','cDNA/gDNA ratio.1_D0_2_diff', 'cDNA/gDNA ratio.2_D0_3_diff', 'cDNA/gDNA ratio.3_D0_4_diff', 'cDNA/gDNA ratio.4_D2_1_diff', 'cDNA/gDNA ratio.5_D2_2_diff', 'cDNA/gDNA ratio.6_D2_3_diff', 'cDNA/gDNA ratio.7_D2_4_diff', 'cDNA/gDNA ratio.8_D5_1_diff', 'cDNA/gDNA ratio.9_D5_2_diff', 'cDNA/gDNA ratio.10_D5_3_diff', 'cDNA/gDNA ratio.11_D5_4_diff','BC_chr', 'BC_start', 'BC_end', 'LAD_chr', 'LAD_start', 'LAD_end', 'In_or_out']].copy()\n",
    "TAD_diff_plot['BC_TAD_left'] = (TAD_diff_plot['LAD_start'] - TAD_diff_plot['BC_start']).abs()\n",
    "TAD_diff_plot['BC_TAD_right'] = (TAD_diff_plot['LAD_end'] - TAD_diff_plot['BC_start']).abs()\n",
    "TAD_diff_plot['BC_closest_distance'] = TAD_diff_plot[['BC_TAD_left','BC_TAD_right']].min(axis=1)\n",
    "TAD_diff_plot = TAD_diff_plot.drop(columns=['BC_TAD_left','BC_TAD_right'])\n",
    "\n",
    "TAD_diff_plot_melt = TAD_diff_plot.melt(id_vars=['_barcode','BC_chr', 'BC_start', 'BC_end', 'LAD_chr', 'LAD_start', 'LAD_end', 'In_or_out','BC_closest_distance'])\n",
    "\n",
    "import numpy as np\n",
    "TAD_diff_plot_melt['group'] = \"NA\"\n",
    "\n",
    "TAD_diff_plot_melt['group'] = np.where((TAD_diff_plot_melt['variable'] == 'cDNA/gDNA ratio_D0_1_diff') | \n",
    "                                 (TAD_diff_plot_melt['variable'] =='cDNA/gDNA ratio.1_D0_2_diff') | \n",
    "                                 (TAD_diff_plot_melt['variable'] =='cDNA/gDNA ratio.2_D0_3_diff') |\n",
    "                                 (TAD_diff_plot_melt['variable'] =='cDNA/gDNA ratio.3_D0_4_diff'),\n",
    "                                 'D0', TAD_diff_plot_melt['group'])\n",
    "TAD_diff_plot_melt['group'] = np.where((TAD_diff_plot_melt['variable'] == 'cDNA/gDNA ratio.4_D2_1_diff') | \n",
    "                                 (TAD_diff_plot_melt['variable'] =='cDNA/gDNA ratio.5_D2_2_diff') | \n",
    "                                 (TAD_diff_plot_melt['variable'] =='cDNA/gDNA ratio.6_D2_3_diff') |\n",
    "                                 (TAD_diff_plot_melt['variable'] =='cDNA/gDNA ratio.7_D2_4_diff'),\n",
    "                                 'D2', TAD_diff_plot_melt['group'])\n",
    "\n",
    "TAD_diff_plot_melt['group'] = np.where((TAD_diff_plot_melt['variable'] == 'cDNA/gDNA ratio.8_D5_1_diff') | \n",
    "                                 (TAD_diff_plot_melt['variable'] =='cDNA/gDNA ratio.9_D5_2_diff') | \n",
    "                                 (TAD_diff_plot_melt['variable'] =='cDNA/gDNA ratio.10_D5_3_diff') |\n",
    "                                 (TAD_diff_plot_melt['variable'] =='cDNA/gDNA ratio.11_D5_4_diff'),\n",
    "                                 'D5', TAD_diff_plot_melt['group'])\n",
    "TAD_diff_plot_melt['value'] = TAD_diff_plot_melt['value'] + 0.00001\n",
    "\n",
    "TAD_diff_plot_melt['rank'] = TAD_diff_plot_melt['value'].rank(method='first')\n",
    "TAD_diff_plot_melt['bins'] = pd.qcut(TAD_diff_plot_melt['rank'], 8, labels=[\"1\", \"2\", \"3\",\"4\",\"5\",\"6\",\"7\",\"8\"])\n",
    "TAD_diff_plot_melt.groupby(['bins','In_or_out']).size()"
   ]
  },
  {
   "cell_type": "code",
   "execution_count": 3,
   "metadata": {},
   "outputs": [
    {
     "data": {
      "text/html": [
       "<div>\n",
       "<style scoped>\n",
       "    .dataframe tbody tr th:only-of-type {\n",
       "        vertical-align: middle;\n",
       "    }\n",
       "\n",
       "    .dataframe tbody tr th {\n",
       "        vertical-align: top;\n",
       "    }\n",
       "\n",
       "    .dataframe thead th {\n",
       "        text-align: right;\n",
       "    }\n",
       "</style>\n",
       "<table border=\"1\" class=\"dataframe\">\n",
       "  <thead>\n",
       "    <tr style=\"text-align: right;\">\n",
       "      <th></th>\n",
       "      <th>_barcode</th>\n",
       "      <th>BC_chr</th>\n",
       "      <th>BC_start</th>\n",
       "      <th>BC_end</th>\n",
       "      <th>LAD_chr</th>\n",
       "      <th>LAD_start</th>\n",
       "      <th>LAD_end</th>\n",
       "      <th>In_or_out</th>\n",
       "      <th>BC_closest_distance</th>\n",
       "      <th>variable</th>\n",
       "      <th>value</th>\n",
       "      <th>group</th>\n",
       "      <th>rank</th>\n",
       "      <th>bins</th>\n",
       "    </tr>\n",
       "  </thead>\n",
       "  <tbody>\n",
       "    <tr>\n",
       "      <th>0</th>\n",
       "      <td>TAGAGCGGTTAATAGCC</td>\n",
       "      <td>chr18</td>\n",
       "      <td>32472130</td>\n",
       "      <td>32472131</td>\n",
       "      <td>chr18</td>\n",
       "      <td>32160000</td>\n",
       "      <td>32560000</td>\n",
       "      <td>in</td>\n",
       "      <td>87870</td>\n",
       "      <td>cDNA/gDNA ratio_D0_1_diff</td>\n",
       "      <td>700.000010</td>\n",
       "      <td>D0</td>\n",
       "      <td>34701.0</td>\n",
       "      <td>8</td>\n",
       "    </tr>\n",
       "    <tr>\n",
       "      <th>1</th>\n",
       "      <td>CAAATGCTCTTGGCCTA</td>\n",
       "      <td>chr4</td>\n",
       "      <td>93395418</td>\n",
       "      <td>93395419</td>\n",
       "      <td>chr4</td>\n",
       "      <td>92280000</td>\n",
       "      <td>93800000</td>\n",
       "      <td>in</td>\n",
       "      <td>404582</td>\n",
       "      <td>cDNA/gDNA ratio_D0_1_diff</td>\n",
       "      <td>0.995035</td>\n",
       "      <td>D0</td>\n",
       "      <td>25779.0</td>\n",
       "      <td>6</td>\n",
       "    </tr>\n",
       "    <tr>\n",
       "      <th>2</th>\n",
       "      <td>GTTTGAGGAACTTGTGT</td>\n",
       "      <td>chr15</td>\n",
       "      <td>26271496</td>\n",
       "      <td>26271497</td>\n",
       "      <td>chr15</td>\n",
       "      <td>25320000</td>\n",
       "      <td>26880000</td>\n",
       "      <td>in</td>\n",
       "      <td>608504</td>\n",
       "      <td>cDNA/gDNA ratio_D0_1_diff</td>\n",
       "      <td>4.613620</td>\n",
       "      <td>D0</td>\n",
       "      <td>29628.0</td>\n",
       "      <td>7</td>\n",
       "    </tr>\n",
       "    <tr>\n",
       "      <th>3</th>\n",
       "      <td>TAGTATTTGTAGTATAA</td>\n",
       "      <td>chr13</td>\n",
       "      <td>55586856</td>\n",
       "      <td>55586857</td>\n",
       "      <td>chr13</td>\n",
       "      <td>55560000</td>\n",
       "      <td>57560000</td>\n",
       "      <td>in</td>\n",
       "      <td>26856</td>\n",
       "      <td>cDNA/gDNA ratio_D0_1_diff</td>\n",
       "      <td>6.331720</td>\n",
       "      <td>D0</td>\n",
       "      <td>30587.0</td>\n",
       "      <td>7</td>\n",
       "    </tr>\n",
       "    <tr>\n",
       "      <th>4</th>\n",
       "      <td>TCGATTTGCACACCGTC</td>\n",
       "      <td>chr6</td>\n",
       "      <td>121436626</td>\n",
       "      <td>121436627</td>\n",
       "      <td>chr6</td>\n",
       "      <td>121040000</td>\n",
       "      <td>122400000</td>\n",
       "      <td>in</td>\n",
       "      <td>396626</td>\n",
       "      <td>cDNA/gDNA ratio_D0_1_diff</td>\n",
       "      <td>101.996682</td>\n",
       "      <td>D0</td>\n",
       "      <td>34274.0</td>\n",
       "      <td>8</td>\n",
       "    </tr>\n",
       "  </tbody>\n",
       "</table>\n",
       "</div>"
      ],
      "text/plain": [
       "            _barcode BC_chr   BC_start     BC_end LAD_chr  LAD_start  \\\n",
       "0  TAGAGCGGTTAATAGCC  chr18   32472130   32472131   chr18   32160000   \n",
       "1  CAAATGCTCTTGGCCTA   chr4   93395418   93395419    chr4   92280000   \n",
       "2  GTTTGAGGAACTTGTGT  chr15   26271496   26271497   chr15   25320000   \n",
       "3  TAGTATTTGTAGTATAA  chr13   55586856   55586857   chr13   55560000   \n",
       "4  TCGATTTGCACACCGTC   chr6  121436626  121436627    chr6  121040000   \n",
       "\n",
       "     LAD_end In_or_out  BC_closest_distance                   variable  \\\n",
       "0   32560000        in                87870  cDNA/gDNA ratio_D0_1_diff   \n",
       "1   93800000        in               404582  cDNA/gDNA ratio_D0_1_diff   \n",
       "2   26880000        in               608504  cDNA/gDNA ratio_D0_1_diff   \n",
       "3   57560000        in                26856  cDNA/gDNA ratio_D0_1_diff   \n",
       "4  122400000        in               396626  cDNA/gDNA ratio_D0_1_diff   \n",
       "\n",
       "        value group     rank bins  \n",
       "0  700.000010    D0  34701.0    8  \n",
       "1    0.995035    D0  25779.0    6  \n",
       "2    4.613620    D0  29628.0    7  \n",
       "3    6.331720    D0  30587.0    7  \n",
       "4  101.996682    D0  34274.0    8  "
      ]
     },
     "execution_count": 3,
     "metadata": {},
     "output_type": "execute_result"
    }
   ],
   "source": [
    "TAD_diff_plot_melt.head()"
   ]
  },
  {
   "cell_type": "code",
   "execution_count": 8,
   "metadata": {},
   "outputs": [
    {
     "name": "stdout",
     "output_type": "stream",
     "text": [
      "F_onewayResult(statistic=0.6627475610868159, pvalue=0.5154401091400209)\n",
      "F_onewayResult(statistic=3.0888330145684724, pvalue=0.04574501973245555)\n"
     ]
    }
   ],
   "source": [
    "import scipy.stats as stats\n",
    "TAD_in = TAD_diff_plot_melt.loc[TAD_diff_plot_melt['In_or_out'] == 'in']\n",
    "TAD_out = TAD_diff_plot_melt.loc[TAD_diff_plot_melt['In_or_out'] == 'out']\n",
    "\n",
    "print(stats.f_oneway(TAD_in['value'][TAD_in['group'] == 'D0'], \n",
    "             TAD_in['value'][TAD_in['group'] == 'D2'],\n",
    "             TAD_in['value'][TAD_in['group'] == 'D5']))\n",
    "\n",
    "print(stats.f_oneway(TAD_out['value'][TAD_out['group'] == 'D0'], \n",
    "             TAD_out['value'][TAD_out['group'] == 'D2'],\n",
    "             TAD_out['value'][TAD_out['group'] == 'D5']))"
   ]
  },
  {
   "cell_type": "code",
   "execution_count": 3,
   "metadata": {},
   "outputs": [
    {
     "data": {
      "image/png": "[encoded data removed]",
      "text/plain": [
       "<Figure size 216x360 with 1 Axes>"
      ]
     },
     "metadata": {
      "needs_background": "light"
     },
     "output_type": "display_data"
    }
   ],
   "source": [
    "import seaborn as sns\n",
    "import matplotlib.pyplot as plt\n",
    "\n",
    "plt.figure(figsize=(3, 5))\n",
    "\n",
    "test = sns.boxenplot(x=\"In_or_out\", y=\"value\",\n",
    "            hue=\"group\", palette=[\"b\", \"g\", \"r\"],\n",
    "            data=TAD_diff_plot_melt)\n",
    "test.set_yscale('log')\n",
    "\n",
    "test.set(ylim=(0.00000001, 100000000))\n",
    "sns.despine(offset=10, trim=True)"
   ]
  },
  {
   "cell_type": "code",
   "execution_count": 20,
   "metadata": {},
   "outputs": [
    {
     "name": "stderr",
     "output_type": "stream",
     "text": [
      "/Users/qw2/anaconda3/envs/intall_env/lib/python3.7/site-packages/scipy/stats/stats.py:3399: PearsonRConstantInputWarning: An input array is constant; the correlation coefficent is not defined.\n",
      "  warnings.warn(PearsonRConstantInputWarning())\n"
     ]
    },
    {
     "data": {
      "text/plain": [
       "[(-0.2, 1.2)]"
      ]
     },
     "execution_count": 20,
     "metadata": {},
     "output_type": "execute_result"
    },
    {
     "data": {
      "image/png": "[encoded data removed]",
      "text/plain": [
       "<Figure size 216x360 with 1 Axes>"
      ]
     },
     "metadata": {
      "needs_background": "light"
     },
     "output_type": "display_data"
    }
   ],
   "source": [
    "# Test the correlation / linear regression analysis for the 3 time points within a TAD, compare to the correlation / regression with the permutation data\n",
    "\n",
    "from itertools import combinations\n",
    "import pandas as pd\n",
    "import numpy as np\n",
    "from scipy.stats.stats import pearsonr \n",
    "\n",
    "in_TAD = pd.read_csv(\"/Users/qw2/Documents/Sanger/GL_analysis/32_TAD_highC_analysis/04_expression_intersect_TAD/final_in_out_bed/test_in_TAD_with_name.txt\",sep=\"\\t\")\n",
    "out_TAD = pd.read_csv(\"/Users/qw2/Documents/Sanger/GL_analysis/32_TAD_highC_analysis/04_expression_intersect_TAD/final_in_out_bed/test_out_TAD_with_name.txt\",sep=\"\\t\")\n",
    "TAD_merged = pd.concat([in_TAD,out_TAD])\n",
    "TAD_diff_plot = TAD_merged[['_barcode','cDNA/gDNA ratio_D0_1_diff','cDNA/gDNA ratio.1_D0_2_diff', 'cDNA/gDNA ratio.2_D0_3_diff', 'cDNA/gDNA ratio.3_D0_4_diff', 'cDNA/gDNA ratio.4_D2_1_diff', 'cDNA/gDNA ratio.5_D2_2_diff', 'cDNA/gDNA ratio.6_D2_3_diff', 'cDNA/gDNA ratio.7_D2_4_diff', 'cDNA/gDNA ratio.8_D5_1_diff', 'cDNA/gDNA ratio.9_D5_2_diff', 'cDNA/gDNA ratio.10_D5_3_diff', 'cDNA/gDNA ratio.11_D5_4_diff','BC_chr', 'BC_start', 'BC_end', 'LAD_chr', 'LAD_start', 'LAD_end', 'In_or_out']].copy()\n",
    "\n",
    "# group all the barcodes by the TADs and filter out the one only 1BC per TAD\n",
    "TAD_diff_plot['count'] = TAD_diff_plot.groupby(['LAD_chr','LAD_start','LAD_end'])['_barcode'].transform(\"count\")\n",
    "\n",
    "# drop all the rows the BC in TAD is only 1\n",
    "TAD_diff_plot_filter = TAD_diff_plot.loc[TAD_diff_plot['count'] > 1]\n",
    "TAD_diff_plot_in = TAD_diff_plot_filter[TAD_diff_plot_filter['In_or_out'] == \"in\"]\n",
    "TAD_diff_plot_out = TAD_diff_plot_filter[TAD_diff_plot_filter['In_or_out'] == \"out\"]\n",
    "\n",
    "TAD_in_groupedby_TAD = TAD_diff_plot_in.groupby(['LAD_chr','LAD_start','LAD_end']).size().reset_index(name='size').reset_index()\n",
    "TAD_diff_plot_in_with_TAD = pd.merge(TAD_in_groupedby_TAD, TAD_diff_plot_in, on = ['LAD_chr','LAD_start','LAD_end'])\n",
    "\n",
    "# sub the dataframe based on the index into the small dataframe within the same TAD\n",
    "combination_regression = []\n",
    "BC_in_TAD = []\n",
    "for i in TAD_diff_plot_in_with_TAD.iloc[:,0].unique():\n",
    "    df = TAD_diff_plot_in_with_TAD.loc[TAD_diff_plot_in_with_TAD['index'] == i]\n",
    "    BC_in_TAD.append(len(df.index))\n",
    "    # make all the 2 sample combination within the sub_df \n",
    "    for index in list(combinations(df.index,2)):\n",
    "        sub_df = df.loc[index,:]\n",
    "        # calculate the BC1 D0/D2/D5 BC mean\n",
    "        BC1_D0 = sub_df.iloc[0,6:10].mean()+ 0.00001\n",
    "        BC1_D2 = sub_df.iloc[0,10:14].mean()+ 0.00001\n",
    "        BC1_D5 = sub_df.iloc[0,14:18].mean()+ 0.00001\n",
    "        BC2_D0 = sub_df.iloc[1,6:10].mean()+ 0.00001\n",
    "        BC2_D2 = sub_df.iloc[1,10:14].mean()+ 0.00001\n",
    "        BC2_D5 = sub_df.iloc[1,14:18].mean()+ 0.00001\n",
    "        # calculate the regression score\n",
    "        BC1 = [BC1_D0,BC1_D2,BC1_D5]\n",
    "        BC2 = [BC2_D0,BC2_D2,BC2_D5]\n",
    "        # calculate Pearson's correlation\n",
    "        corr = pearsonr(BC1, BC2)\n",
    "        combination_regression.append(corr[0]**2)\n",
    "\n",
    "# calculate the number of BC in each TAD, extract according to the number of BC in TAD,\n",
    "# calculate all the permutations of correlation R2, compare with the calculated r2\n",
    "random_regression = []\n",
    "for count in BC_in_TAD:\n",
    "    random_sub = TAD_diff_plot_in_with_TAD.sample(n=count, replace=False,random_state=42)\n",
    "    for index in list(combinations(random_sub.index,2)):\n",
    "        sub_df = random_sub.loc[index,:]\n",
    "        # calculate the BC1 D0/D2/D5 BC mean\n",
    "        BC1_D0 = sub_df.iloc[0,6:10].mean()+ 0.00001\n",
    "        BC1_D2 = sub_df.iloc[0,10:14].mean()+ 0.00001\n",
    "        BC1_D5 = sub_df.iloc[0,14:18].mean()+ 0.00001\n",
    "        BC2_D0 = sub_df.iloc[1,6:10].mean()+ 0.00001\n",
    "        BC2_D2 = sub_df.iloc[1,10:14].mean()+ 0.00001\n",
    "        BC2_D5 = sub_df.iloc[1,14:18].mean()+ 0.00001\n",
    "        # calculate the regression score\n",
    "        BC1 = [BC1_D0,BC1_D2,BC1_D5]\n",
    "        BC2 = [BC2_D0,BC2_D2,BC2_D5]\n",
    "        # calculate Pearson's correlation\n",
    "        corr = pearsonr(BC1, BC2)\n",
    "        random_regression.append(corr[0]**2)\n",
    "\n",
    "plot_correlation = pd.DataFrame(columns=['calculated', 'randomized'])\n",
    "plot_correlation['calculated'] = combination_regression\n",
    "plot_correlation['randomized'] = random_regression\n",
    "plot_correlation = plot_correlation.reset_index()\n",
    "plot_corr_final = plot_correlation.melt(id_vars = [\"index\"])\n",
    "\n",
    "import ptitprince as pt\n",
    "import matplotlib.pyplot as plt\n",
    "correlation_plot = pt.RainCloud(x=\"variable\", y=\"value\", data=plot_corr_final,\n",
    "                   width_viol = .8,\n",
    "                   width_box = .3,\n",
    "                   figsize = (3, 5),\n",
    "                   move = .0,alpha = .5,bw = .2,\n",
    "                   pointplot=True)\n",
    "correlation_plot.set(ylim=(-0.2, 1.2))"
   ]
  },
  {
   "cell_type": "code",
   "execution_count": 15,
   "metadata": {},
   "outputs": [
    {
     "data": {
      "text/html": [
       "<div>\n",
       "<style scoped>\n",
       "    .dataframe tbody tr th:only-of-type {\n",
       "        vertical-align: middle;\n",
       "    }\n",
       "\n",
       "    .dataframe tbody tr th {\n",
       "        vertical-align: top;\n",
       "    }\n",
       "\n",
       "    .dataframe thead th {\n",
       "        text-align: right;\n",
       "    }\n",
       "</style>\n",
       "<table border=\"1\" class=\"dataframe\">\n",
       "  <thead>\n",
       "    <tr style=\"text-align: right;\">\n",
       "      <th></th>\n",
       "      <th>index</th>\n",
       "      <th>calculated</th>\n",
       "      <th>randomized</th>\n",
       "    </tr>\n",
       "  </thead>\n",
       "  <tbody>\n",
       "    <tr>\n",
       "      <th>0</th>\n",
       "      <td>0</td>\n",
       "      <td>0.436197</td>\n",
       "      <td>NaN</td>\n",
       "    </tr>\n",
       "    <tr>\n",
       "      <th>1</th>\n",
       "      <td>1</td>\n",
       "      <td>0.976116</td>\n",
       "      <td>NaN</td>\n",
       "    </tr>\n",
       "    <tr>\n",
       "      <th>2</th>\n",
       "      <td>2</td>\n",
       "      <td>0.702398</td>\n",
       "      <td>NaN</td>\n",
       "    </tr>\n",
       "    <tr>\n",
       "      <th>3</th>\n",
       "      <td>3</td>\n",
       "      <td>0.670028</td>\n",
       "      <td>0.109243</td>\n",
       "    </tr>\n",
       "    <tr>\n",
       "      <th>4</th>\n",
       "      <td>4</td>\n",
       "      <td>0.820556</td>\n",
       "      <td>0.999755</td>\n",
       "    </tr>\n",
       "  </tbody>\n",
       "</table>\n",
       "</div>"
      ],
      "text/plain": [
       "   index  calculated  randomized\n",
       "0      0    0.436197         NaN\n",
       "1      1    0.976116         NaN\n",
       "2      2    0.702398         NaN\n",
       "3      3    0.670028    0.109243\n",
       "4      4    0.820556    0.999755"
      ]
     },
     "execution_count": 15,
     "metadata": {},
     "output_type": "execute_result"
    }
   ],
   "source": [
    "plot_correlation.head()"
   ]
  },
  {
   "cell_type": "code",
   "execution_count": 26,
   "metadata": {},
   "outputs": [
    {
     "data": {
      "text/plain": [
       "Ttest_indResult(statistic=6.598508544077081, pvalue=7.174983527235614e-11)"
      ]
     },
     "execution_count": 26,
     "metadata": {},
     "output_type": "execute_result"
    }
   ],
   "source": [
    "from scipy import stats\n",
    "scipy.stats.ttest_ind(plot_correlation.dropna()['calculated'], plot_correlation.dropna()['randomized'], axis=0,equal_var=False)"
   ]
  }
 ],
 "metadata": {
  "kernelspec": {
   "display_name": "Python 3",
   "language": "python",
   "name": "python3"
  },
  "language_info": {
   "codemirror_mode": {
    "name": "ipython",
    "version": 3
   },
   "file_extension": ".py",
   "mimetype": "text/x-python",
   "name": "python",
   "nbconvert_exporter": "python",
   "pygments_lexer": "ipython3",
   "version": "3.7.1"
  }
 },
 "nbformat": 4,
 "nbformat_minor": 2
}
